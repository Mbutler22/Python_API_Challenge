{
 "cells": [
  {
   "cell_type": "markdown",
   "metadata": {},
   "source": [
    "# WeatherPy\n",
    "----\n",
    "\n",
    "#### Note\n",
    "* Instructions have been included for each segment. You do not have to follow them exactly, but they are included to help you think through the steps."
   ]
  },
  {
   "cell_type": "code",
   "execution_count": 1,
   "metadata": {
    "scrolled": true
   },
   "outputs": [],
   "source": [
    "# Dependencies and Setup\n",
    " # git bash= python -m pip install citipy\n",
    "import matplotlib.pyplot as plt\n",
    "import pandas as pd\n",
    "import numpy as np\n",
    "import requests\n",
    "import time\n",
    "from scipy.stats import linregress\n",
    "\n",
    "# Import API key\n",
    "#from api_keys import weather_api_key\n",
    "from api_keys import api_keys\n",
    "\n",
    "# Incorporated citipy to determine city based on latitude and longitude\n",
    "from citipy import citipy\n",
    "\n",
    "# Output File (CSV)\n",
    "output_data_file = \"output_data/cities.csv\"\n",
    "\n",
    "# Range of latitudes and longitudes\n",
    "lat_range = (-90, 90)\n",
    "lng_range = (-180, 180)"
   ]
  },
  {
   "cell_type": "markdown",
   "metadata": {},
   "source": [
    "## Generate Cities List"
   ]
  },
  {
   "cell_type": "code",
   "execution_count": 2,
   "metadata": {},
   "outputs": [
    {
     "data": {
      "text/plain": [
       "602"
      ]
     },
     "execution_count": 2,
     "metadata": {},
     "output_type": "execute_result"
    }
   ],
   "source": [
    "# List for holding lat_lngs and cities\n",
    "lat_lngs = []\n",
    "cities = []\n",
    "\n",
    "# Create a set of random lat and lng combinations\n",
    "lats = np.random.uniform(lat_range[0], lat_range[1], size=1500)\n",
    "lngs = np.random.uniform(lng_range[0], lng_range[1], size=1500)\n",
    "lat_lngs = zip(lats, lngs)\n",
    "\n",
    "# Identify nearest city for each lat, lng combination\n",
    "for lat_lng in lat_lngs:\n",
    "    city = citipy.nearest_city(lat_lng[0], lat_lng[1]).city_name\n",
    "    \n",
    "    # If the city is unique, then add it to a our cities list\n",
    "    if city not in cities:\n",
    "        cities.append(city)\n",
    "\n",
    "# Print the city count to confirm sufficient count\n",
    "len(cities)"
   ]
  },
  {
   "cell_type": "code",
   "execution_count": 3,
   "metadata": {},
   "outputs": [],
   "source": [
    "#Save config information\n",
    "url = \"http://api.openweathermap.org/data/2.5/weather?\"\n",
    "units = \"imperial\"\n",
    "\n",
    "#Build the query URL\n",
    "#query_url = url + \"appid=\" + api_keys + \"&q=\" + units\n",
    "query_url =f\"{url}appid={api_keys}&units={units}&q=\"\n",
    "\n",
    "\n",
    "#Create variables to store data\n",
    "city_name_list = []\n",
    "cloudiness_list = []\n",
    "country_list = []\n",
    "date_list = []\n",
    "humidity_list = []\n",
    "lat_list = []\n",
    "lng_list = []\n",
    "max_temp_list = []\n",
    "wind_speed_list = []\n",
    "index_counter = 0\n",
    "set_counter = 1"
   ]
  },
  {
   "cell_type": "markdown",
   "metadata": {},
   "source": [
    "### Perform API Calls\n",
    "* Perform a weather check on each city using a series of successive API calls.\n",
    "* Include a print log of each city as it'sbeing processed (with the city number and city name).\n"
   ]
  },
  {
   "cell_type": "code",
   "execution_count": null,
   "metadata": {
    "scrolled": true
   },
   "outputs": [
    {
     "name": "stdout",
     "output_type": "stream",
     "text": [
      "-----------------------------\n",
      "Processing Record 1 of Set 1 : chokurdakh\n",
      "Processing Record 2 of Set 1 : constitucion\n",
      "City not found. Skipping...\n",
      "Processing Record 3 of Set 1 : hermanus\n",
      "Processing Record 4 of Set 1 : vaini\n",
      "Processing Record 5 of Set 1 : rikitea\n",
      "Processing Record 6 of Set 1 : lata\n",
      "Processing Record 7 of Set 1 : cayenne\n",
      "Processing Record 8 of Set 1 : karratha\n",
      "Processing Record 9 of Set 1 : puerto ayora\n",
      "Processing Record 10 of Set 1 : hilo\n",
      "Processing Record 11 of Set 1 : castro\n",
      "Processing Record 12 of Set 1 : esperance\n",
      "Processing Record 13 of Set 1 : mahebourg\n",
      "Processing Record 14 of Set 1 : punta arenas\n",
      "Processing Record 15 of Set 1 : jardim\n",
      "Processing Record 16 of Set 1 : srednekolymsk\n",
      "Processing Record 17 of Set 1 : thompson\n",
      "Processing Record 18 of Set 1 : tasiilaq\n",
      "Processing Record 19 of Set 1 : antofagasta\n",
      "Processing Record 20 of Set 1 : yerbogachen\n",
      "Processing Record 21 of Set 1 : bluff\n",
      "Processing Record 22 of Set 1 : manzanillo\n",
      "Processing Record 23 of Set 1 : jamestown\n",
      "Processing Record 24 of Set 1 : sao felix do xingu\n",
      "Processing Record 25 of Set 1 : saskylakh\n",
      "Processing Record 26 of Set 1 : sinop\n",
      "Processing Record 27 of Set 1 : ulaanbaatar\n",
      "Processing Record 28 of Set 1 : hobart\n",
      "Processing Record 29 of Set 1 : padang\n",
      "Processing Record 30 of Set 1 : plainview\n",
      "Processing Record 31 of Set 1 : butaritari\n",
      "Processing Record 32 of Set 1 : daru\n",
      "Processing Record 33 of Set 1 : lagoa\n",
      "Processing Record 34 of Set 1 : new norfolk\n",
      "City not found. Skipping...\n",
      "Processing Record 35 of Set 1 : albany\n",
      "Processing Record 36 of Set 1 : rio grande\n",
      "Processing Record 37 of Set 1 : kaitangata\n",
      "Processing Record 38 of Set 1 : piranshahr\n",
      "Processing Record 39 of Set 1 : chicama\n",
      "City not found. Skipping...\n",
      "Processing Record 40 of Set 1 : kutum\n",
      "Processing Record 41 of Set 1 : lebu\n",
      "Processing Record 42 of Set 1 : tuatapere\n",
      "Processing Record 43 of Set 1 : kodiak\n",
      "Processing Record 44 of Set 1 : guerrero negro\n",
      "Processing Record 45 of Set 1 : dikson\n",
      "Processing Record 46 of Set 1 : east london\n",
      "Processing Record 47 of Set 1 : coffs harbour\n",
      "Processing Record 48 of Set 1 : tuktoyaktuk\n",
      "City not found. Skipping...\n",
      "Processing Record 49 of Set 1 : meulaboh\n",
      "Processing Record 50 of Set 1 : mataura\n",
      "Processing Record 0 of Set 2 : ushuaia\n",
      "Processing Record 1 of Set 2 : codrington\n",
      "Processing Record 2 of Set 2 : port hardy\n",
      "Processing Record 3 of Set 2 : stromness\n",
      "City not found. Skipping...\n",
      "City not found. Skipping...\n",
      "City not found. Skipping...\n",
      "Processing Record 4 of Set 2 : mitsamiouli\n",
      "Processing Record 5 of Set 2 : arraial do cabo\n",
      "Processing Record 6 of Set 2 : ayan\n",
      "Processing Record 7 of Set 2 : torbay\n",
      "Processing Record 8 of Set 2 : chiquilistlan\n",
      "City not found. Skipping...\n",
      "Processing Record 9 of Set 2 : airai\n",
      "Processing Record 10 of Set 2 : laguna\n",
      "Processing Record 11 of Set 2 : kapaa\n",
      "Processing Record 12 of Set 2 : zhuanghe\n",
      "Processing Record 13 of Set 2 : atuona\n",
      "Processing Record 14 of Set 2 : bairiki\n",
      "Processing Record 15 of Set 2 : vila velha\n",
      "Processing Record 16 of Set 2 : vestmannaeyjar\n",
      "Processing Record 17 of Set 2 : mar del plata\n",
      "Processing Record 18 of Set 2 : yellowknife\n",
      "Processing Record 19 of Set 2 : bredasdorp\n",
      "City not found. Skipping...\n",
      "Processing Record 20 of Set 2 : kemi\n",
      "Processing Record 21 of Set 2 : marang\n",
      "Processing Record 22 of Set 2 : saint-philippe\n",
      "Processing Record 23 of Set 2 : norman wells\n",
      "Processing Record 24 of Set 2 : churachandpur\n",
      "Processing Record 25 of Set 2 : port elizabeth\n",
      "Processing Record 26 of Set 2 : uige\n",
      "Processing Record 27 of Set 2 : kamaishi\n",
      "Processing Record 28 of Set 2 : requena\n",
      "Processing Record 29 of Set 2 : victoria\n",
      "Processing Record 30 of Set 2 : port alfred\n",
      "Processing Record 31 of Set 2 : tiksi\n",
      "Processing Record 32 of Set 2 : nanortalik\n",
      "Processing Record 33 of Set 2 : ribeira grande\n",
      "Processing Record 34 of Set 2 : carbonia\n",
      "Processing Record 35 of Set 2 : barrow\n",
      "City not found. Skipping...\n",
      "Processing Record 36 of Set 2 : raxaul\n",
      "City not found. Skipping...\n",
      "Processing Record 37 of Set 2 : geraldton\n",
      "Processing Record 38 of Set 2 : lom sak\n",
      "City not found. Skipping...\n",
      "Processing Record 39 of Set 2 : fort atkinson\n",
      "Processing Record 40 of Set 2 : khatanga\n",
      "Processing Record 41 of Set 2 : ejea de los caballeros\n",
      "City not found. Skipping...\n",
      "Processing Record 42 of Set 2 : saldanha\n",
      "Processing Record 43 of Set 2 : almaznyy\n",
      "Processing Record 44 of Set 2 : nalut\n",
      "Processing Record 45 of Set 2 : ambilobe\n",
      "Processing Record 46 of Set 2 : tabou\n",
      "Processing Record 47 of Set 2 : sri aman\n",
      "Processing Record 48 of Set 2 : eenhana\n",
      "Processing Record 49 of Set 2 : ishigaki\n",
      "Processing Record 50 of Set 2 : chapais\n",
      "Processing Record 0 of Set 3 : sao joao da barra\n",
      "Processing Record 1 of Set 3 : pisco\n",
      "Processing Record 2 of Set 3 : kattivakkam\n",
      "Processing Record 3 of Set 3 : svirsk\n",
      "Processing Record 4 of Set 3 : hualmay\n",
      "Processing Record 5 of Set 3 : kushiro\n",
      "Processing Record 6 of Set 3 : havre-saint-pierre\n",
      "Processing Record 7 of Set 3 : pevek\n",
      "Processing Record 8 of Set 3 : itoman\n",
      "Processing Record 9 of Set 3 : omboue\n",
      "Processing Record 10 of Set 3 : matagami\n",
      "Processing Record 11 of Set 3 : valparaiso\n",
      "Processing Record 12 of Set 3 : hornepayne\n",
      "Processing Record 13 of Set 3 : zabol\n",
      "Processing Record 14 of Set 3 : san quintin\n",
      "Processing Record 15 of Set 3 : boma\n",
      "Processing Record 16 of Set 3 : half moon bay\n",
      "City not found. Skipping...\n",
      "Processing Record 17 of Set 3 : odweyne\n",
      "Processing Record 18 of Set 3 : kongolo\n",
      "Processing Record 19 of Set 3 : baherden\n",
      "Processing Record 20 of Set 3 : mungwi\n",
      "City not found. Skipping...\n",
      "Processing Record 21 of Set 3 : avarua\n",
      "Processing Record 22 of Set 3 : chuy\n",
      "Processing Record 23 of Set 3 : sibu\n",
      "Processing Record 24 of Set 3 : longyearbyen\n",
      "Processing Record 25 of Set 3 : qingdao\n",
      "Processing Record 26 of Set 3 : viani\n",
      "Processing Record 27 of Set 3 : usinsk\n",
      "Processing Record 28 of Set 3 : lorengau\n",
      "Processing Record 29 of Set 3 : namatanai\n",
      "Processing Record 30 of Set 3 : lavrentiya\n",
      "Processing Record 31 of Set 3 : upernavik\n",
      "Processing Record 32 of Set 3 : grindavik\n",
      "City not found. Skipping...\n",
      "Processing Record 33 of Set 3 : luanda\n",
      "Processing Record 34 of Set 3 : cape town\n",
      "City not found. Skipping...\n",
      "Processing Record 35 of Set 3 : olds\n",
      "City not found. Skipping...\n",
      "Processing Record 36 of Set 3 : gat\n",
      "Processing Record 37 of Set 3 : oktyabrskiy\n",
      "Processing Record 38 of Set 3 : kalabo\n",
      "Processing Record 39 of Set 3 : riyadh\n",
      "Processing Record 40 of Set 3 : busselton\n",
      "Processing Record 41 of Set 3 : hithadhoo\n",
      "Processing Record 42 of Set 3 : touros\n",
      "Processing Record 43 of Set 3 : wagga wagga\n",
      "Processing Record 44 of Set 3 : pangnirtung\n",
      "Processing Record 45 of Set 3 : loandjili\n",
      "Processing Record 46 of Set 3 : tchollire\n",
      "Processing Record 47 of Set 3 : cidreira\n",
      "Processing Record 48 of Set 3 : jilib\n",
      "Processing Record 49 of Set 3 : caluquembe\n",
      "Processing Record 50 of Set 3 : mount gambier\n",
      "Processing Record 0 of Set 4 : flinders\n",
      "Processing Record 1 of Set 4 : ponta do sol\n",
      "Processing Record 2 of Set 4 : cangzhou\n",
      "Processing Record 3 of Set 4 : algiers\n",
      "Processing Record 4 of Set 4 : kloulklubed\n",
      "Processing Record 5 of Set 4 : puerto escondido\n",
      "Processing Record 6 of Set 4 : provideniya\n",
      "Processing Record 7 of Set 4 : avera\n",
      "Processing Record 8 of Set 4 : nikolskoye\n",
      "Processing Record 9 of Set 4 : bambous virieux\n",
      "Processing Record 10 of Set 4 : roald\n",
      "Processing Record 11 of Set 4 : sur\n",
      "Processing Record 12 of Set 4 : derbent\n",
      "Processing Record 13 of Set 4 : brae\n",
      "Processing Record 14 of Set 4 : tomatlan\n",
      "Processing Record 15 of Set 4 : husavik\n",
      "Processing Record 16 of Set 4 : faanui\n",
      "Processing Record 17 of Set 4 : kutulik\n",
      "Processing Record 18 of Set 4 : ifanadiana\n",
      "Processing Record 19 of Set 4 : san cristobal\n",
      "Processing Record 20 of Set 4 : binzhou\n",
      "Processing Record 21 of Set 4 : plettenberg bay\n",
      "Processing Record 22 of Set 4 : kenora\n",
      "Processing Record 23 of Set 4 : awjilah\n",
      "Processing Record 24 of Set 4 : fallon\n",
      "Processing Record 25 of Set 4 : gazli\n",
      "Processing Record 26 of Set 4 : cascais\n",
      "Processing Record 27 of Set 4 : jian\n",
      "Processing Record 28 of Set 4 : ahipara\n",
      "Processing Record 29 of Set 4 : lang son\n",
      "City not found. Skipping...\n",
      "Processing Record 30 of Set 4 : trofors\n",
      "Processing Record 31 of Set 4 : pangai\n",
      "Processing Record 32 of Set 4 : yaan\n",
      "Processing Record 33 of Set 4 : morondava\n"
     ]
    }
   ],
   "source": [
    "#print(\"Beginning Data Retrieval \")\n",
    "print(\"-----------------------------\")\n",
    "\n",
    "base_url = \"http://api.openweathermap.org/data/2.5/weather?\"\n",
    "units = \"imperial\"\n",
    "query_url = f\"{base_url}appid={api_keys}&units={units}&q=\"\n",
    "\n",
    "\n",
    "# For each city name in cities list, do below things...\n",
    "for index, city in enumerate(cities, start = 1):\n",
    "    try:\n",
    "        response = requests.get(query_url + city).json()\n",
    "        city_name_list.append(response[\"name\"])\n",
    "        #cloudiness_list.append(response[\"clouds\"][\"all\"])\n",
    "        country_list.append(response[\"sys\"][\"country\"])\n",
    "        date_list.append(response[\"dt\"])\n",
    "        humidity_list.append(response[\"main\"][\"humidity\"])\n",
    "        lat_list.append(response[\"coord\"][\"lat\"])\n",
    "        lng_list.append(response[\"coord\"][\"lon\"])\n",
    "        max_temp_list.append(response['main']['temp_max'])\n",
    "        wind_speed_list.append(response[\"wind\"][\"speed\"])\n",
    "        if index_counter > 49:\n",
    "            index_counter = 0\n",
    "            set_counter = set_counter + 1\n",
    "    \n",
    "        else:\n",
    "            index_counter = index_counter + 1\n",
    "            \n",
    "        print(f\"Processing Record {index_counter} of Set {set_counter} : {city}\") \n",
    "  \n",
    "    except(KeyError, IndexError):\n",
    "        print(\"City not found. Skipping...\")\n",
    "\n",
    "print(\"-----------------------------\")\n",
    "print(\"Data Retrieval Complete\")\n",
    "print(\"-----------------------------\")"
   ]
  },
  {
   "cell_type": "markdown",
   "metadata": {},
   "source": [
    "### Convert Raw Data to DataFrame\n",
    "* Export the city data into a .csv.\n",
    "* Display the DataFrame"
   ]
  },
  {
   "cell_type": "code",
   "execution_count": null,
   "metadata": {},
   "outputs": [],
   "source": [
    "# Create a panda data frame using data retrieved\n",
    "weather_dict = pd.DataFrame({ \n",
    "                \"City\" : city_name_list,\n",
    "                \"Cloudiness\" : cloudiness_list,\n",
    "                \"Country\" : country_list,\n",
    "                \"Date\" : date_list,\n",
    "                \"Humidity\" : humidity_list,\n",
    "                \"Lat\" : lat_list,\n",
    "                \"Lng\" : lng_list,\n",
    "                \"Max Temp\" : max_temp_list})\n",
    "                #\"Wind Speed\" : wind_speed_list})"
   ]
  },
  {
   "cell_type": "markdown",
   "metadata": {},
   "source": [
    "## Inspect the data and remove the cities where the humidity > 100%.\n",
    "----\n",
    "Skip this step if there are no cities that have humidity > 100%. "
   ]
  },
  {
   "cell_type": "code",
   "execution_count": null,
   "metadata": {},
   "outputs": [],
   "source": []
  },
  {
   "cell_type": "code",
   "execution_count": null,
   "metadata": {},
   "outputs": [],
   "source": [
    "#  Get the indices of cities that have humidity over 100%.\n"
   ]
  },
  {
   "cell_type": "code",
   "execution_count": null,
   "metadata": {},
   "outputs": [],
   "source": [
    "# Make a new DataFrame equal to the city data to drop all humidity outliers by index.\n",
    "# Passing \"inplace=False\" will make a copy of the city_data DataFrame, which we call \"clean_city_data\".\n"
   ]
  },
  {
   "cell_type": "code",
   "execution_count": null,
   "metadata": {},
   "outputs": [],
   "source": [
    "\n"
   ]
  },
  {
   "cell_type": "markdown",
   "metadata": {},
   "source": [
    "## Plotting the Data\n",
    "* Use proper labeling of the plots using plot titles (including date of analysis) and axes labels.\n",
    "* Save the plotted figures as .pngs."
   ]
  },
  {
   "cell_type": "markdown",
   "metadata": {},
   "source": [
    "## Latitude vs. Temperature Plot"
   ]
  },
  {
   "cell_type": "code",
   "execution_count": null,
   "metadata": {
    "scrolled": true
   },
   "outputs": [],
   "source": [
    "x_values = cities_df[\"Lat\"]\n",
    "y_values = cities_df[\"Temperature\"]\n",
    "\n",
    "plt.scatter(x_values,y_values)\n",
    "plt.title('Temperatures at the Latitude Positions')\n",
    "plt.xlabel('Temperature (F)')\n",
    "plt.ylim(0, 100)\n",
    "plt.xlim(-60, 80)\n",
    "plt.minorticks_on()\n",
    "plt.grid(which= 'major', linestyle='-')\n",
    "plt.grid(which= 'minor', linestyle= ':')\n",
    "plt.tight_layout()\n",
    "plt.show()\n",
    "#plt.savefig(\"Images/lat_temp.png\")"
   ]
  },
  {
   "cell_type": "markdown",
   "metadata": {},
   "source": [
    "## Latitude vs. Humidity Plot"
   ]
  },
  {
   "cell_type": "code",
   "execution_count": null,
   "metadata": {},
   "outputs": [],
   "source": [
    "# Create Latitude vs. Humidity Plot scatter plot\n",
    "\n",
    "plt.scatter(cities_df[\"Lat\"], cities_df[\"Humidity\"], facecolor = \"steelblue\", edgecolor = \"black\")\n",
    "\n",
    "#set title\n",
    "plt.title(\"Humidity at Latitude Positions\")\n",
    "plt.xlabel(\"Latitude\")\n",
    "plt.ylabel(\"Humidity (%)\")\n",
    "plt.ylim(0, 105)\n",
    "plt.xlim(-60, 80)\n",
    "plt.minorticks_on()\n",
    "plt.grid(which='major', linestyle='-')\n",
    "#plt.grid(which='minor', linestlye=':')\n",
    "plt.tight_layout()\n",
    "plt.show()\n",
    "#plt.savefig(\"Images/lat_humid.png\")"
   ]
  },
  {
   "cell_type": "markdown",
   "metadata": {},
   "source": [
    "## Latitude vs. Cloudiness Plot"
   ]
  },
  {
   "cell_type": "code",
   "execution_count": null,
   "metadata": {},
   "outputs": [],
   "source": [
    "#Create Latitude vs. Cloudiness Plot scatter plot\n",
    "\n",
    "plt.scatter(weather_dict[\"Lat\"], weather_dict[\"Cloudiness\"], facecolor =\"steelblue\", edgecolor = \"black\")\n",
    "\n",
    "#Set title\n",
    "plt.title(\"Cloudiness at Latitude Positions\")\n",
    "plt.xlabel(\"Latitude\")\n",
    "plt.ylabel(\"Cloudiness (%)\")\n",
    "plt.ylim(-5, 105)\n",
    "plt.minorticks_on()\n",
    "plt.grid(which='major', linestyle='-')\n",
    "plt.grid(which='minor', linestlye=':')\n",
    "plt.tight_layout()\n",
    "plt.show()\n",
    "plt.savefig(\"Images/lat_clouds.png\")"
   ]
  },
  {
   "cell_type": "markdown",
   "metadata": {},
   "source": [
    "## Latitude vs. Wind Speed Plot"
   ]
  },
  {
   "cell_type": "code",
   "execution_count": null,
   "metadata": {},
   "outputs": [],
   "source": [
    "x_values = cities_df[\"Lat\"]\n",
    "y_values = cities_df[\"Wind Speed\"]\n",
    "\n",
    "plt.scatter(x_values, y_values)\n",
    "plt.title('Wind Speeds at Latitude Positions')\n",
    "plt.xlabel('Latitude')\n",
    "plt.ylabel('Wind Speed (mph)')\n",
    "plt.ylim(0, 40)\n",
    "plt.xlim(-60, 80)\n",
    "plt.minorticks_on()\n",
    "plt.grid(which='major', linestyle='-')\n",
    "plt.grid(which='minor', linestyle=':')\n",
    "plt.tight_layout()\n",
    "plt.show()\n",
    "plt.savefig(\"Images/lat_wind.png\")"
   ]
  },
  {
   "cell_type": "markdown",
   "metadata": {},
   "source": [
    "## Linear Regression"
   ]
  },
  {
   "cell_type": "code",
   "execution_count": null,
   "metadata": {},
   "outputs": [],
   "source": [
    "#Create Northern and Southern Hemisphere DataFrames\n",
    "\n",
    "northern_hemisphere = cities_df.loc[cities_df[\"Lat\"] >= 0]\n",
    "southern_hemisphere = cities_df.loc[cities_df[\"Lat\"] < 0]"
   ]
  },
  {
   "cell_type": "code",
   "execution_count": null,
   "metadata": {},
   "outputs": [],
   "source": [
    "#Define function for creating linear agression and scatter plot\n",
    "\n",
    "def linear_agression(x,y):\n",
    "    print(f\"The r-squared is : {round(st.pearsonr(x, y)[0],2)}\")\n",
    "    (slope, intercept, rvalue, pvalue, stderr) = linregress(x, y)\n",
    "    regress_values = x*slope + intercept\n",
    "    line_eq = \"y =\" + str(round(slope,2)) + \"x + \" + str(round(intercept,2))\n",
    "    plt.scatter(x, y)\n",
    "    plt.plot(x, regress_values, \"r-\")\n",
    "    return line_eq\n",
    "\n",
    "#Define a function for annotating\n",
    "def annotate(line_eq, a, b):\n",
    "    plt.annotate(line_eq,(a,b), fontsize=15, color=\"red\")"
   ]
  },
  {
   "cell_type": "markdown",
   "metadata": {},
   "source": [
    "####  Northern Hemisphere - Max Temp vs. Latitude Linear Regression"
   ]
  },
  {
   "cell_type": "code",
   "execution_count": null,
   "metadata": {},
   "outputs": [],
   "source": [
    "equation = linear_agression(northern_hemisphere[\"Lat\"], northern_hemisphere[\"Max Temp\"])\n",
    "\n",
    "annotate(equation, 0, 0)\n",
    "plt.title(\"Northern Hemisphere - Max Temp vs. Latitude Linear Regression\")\n",
    "plt.xlabel(\"Latitude\")\n",
    "plt.ylabel(\"Max Temp (F)\")\n",
    "plt.savefig(\"../Images/Northern Hemisphere - Max Temp vs. Lat Linear Regression.png\")"
   ]
  },
  {
   "cell_type": "markdown",
   "metadata": {},
   "source": [
    "####  Southern Hemisphere - Max Temp vs. Latitude Linear Regression"
   ]
  },
  {
   "cell_type": "code",
   "execution_count": null,
   "metadata": {},
   "outputs": [],
   "source": [
    "equation = linear_agression(southern_hemisphere[\"Lat\"], southern_hemisphere[\"Max Temp\"])\n",
    "\n",
    "annotate(equation, 0, 0)\n",
    "plt.title(\"Southern Hemisphere - Max Temp vs. Latitude Linear Regression\")\n",
    "plt.xlabel(\"Latitude\")\n",
    "plt.ylabel(\"Max Temp (F)\")\n",
    "plt.savefig(\"../Images/Southern Hemisphere - Max Temp vs. Lat Linear Regression.png\")"
   ]
  },
  {
   "cell_type": "markdown",
   "metadata": {},
   "source": [
    "####  Northern Hemisphere - Humidity (%) vs. Latitude Linear Regression"
   ]
  },
  {
   "cell_type": "code",
   "execution_count": null,
   "metadata": {},
   "outputs": [],
   "source": [
    "equation = linear_agression(northern_hemisphere[\"Lat\"], northern_hemisphere[\"Humidity\"])\n",
    "\n",
    "annotate(equation, 40, 15)\n",
    "plt.title(\"Northern Hemisphere - Humidity (%) vs. Latitude Linear Regression\")\n",
    "plt.xlabel(\"Latitude\")\n",
    "plt.ylabel(\"Max Temp (F)\")\n",
    "plt.savefig(\"../Images/Northern Hemisphere - Max Temp vs. Lat Linear Regression.png\")"
   ]
  },
  {
   "cell_type": "markdown",
   "metadata": {},
   "source": [
    "####  Southern Hemisphere - Humidity (%) vs. Latitude Linear Regression"
   ]
  },
  {
   "cell_type": "code",
   "execution_count": null,
   "metadata": {},
   "outputs": [],
   "source": [
    "equation = linear_agression(southern_hemisphere[\"Lat\"], southern_hemisphere[\"Max Temp\"])\n",
    "\n",
    "annotate(equation, -40, 50)\n",
    "plt.title(\"Southern Hemisphere - Max Temp vs. Latitude Linear Regression\")\n",
    "plt.xlabel(\"Latitude\")\n",
    "plt.ylabel(\"Max Temp (F)\")\n",
    "plt.savefig(\"../Images/Northern Hemisphere - Max Temp vs. Lat Linear Regression.png\")"
   ]
  },
  {
   "cell_type": "markdown",
   "metadata": {},
   "source": [
    "####  Northern Hemisphere - Cloudiness (%) vs. Latitude Linear Regression"
   ]
  },
  {
   "cell_type": "code",
   "execution_count": null,
   "metadata": {},
   "outputs": [],
   "source": [
    "equation = linear_agression(northern_hemisphere[\"Lat\"], northern_hemisphere[\"Cloudiness\"])\n",
    "\n",
    "annotate(equation, 30, 40)\n",
    "plt.title(\"Northern Hemisphere - Cloudiness (%) vs. Latitude Linear Regression\")\n",
    "plt.xlabel(\"Latitude\")\n",
    "plt.ylabel(\"Cloudiness (%)\")\n",
    "plt.savefig(\"../Images/Northern Hemisphere - Cloudiness (%) vs. Lat Linear Regression.png\")"
   ]
  },
  {
   "cell_type": "markdown",
   "metadata": {},
   "source": [
    "####  Southern Hemisphere - Cloudiness (%) vs. Latitude Linear Regression"
   ]
  },
  {
   "cell_type": "code",
   "execution_count": null,
   "metadata": {},
   "outputs": [],
   "source": [
    "equation = linear_agression(southern_hemisphere[\"Lat\"], southern_hemisphere[\"Max Temp\"])\n",
    "\n",
    "annotate(equation, 0, 0)\n",
    "plt.title(\"Southern Hemisphere - Cloudiness (%) vs. Latitude Linear Regression\")\n",
    "plt.xlabel(\"Latitude\")\n",
    "plt.ylabel(\"Max Temp (F)\")\n",
    "plt.savefig(\"../Images/Southern Hemisphere - Cloudiness (%) vs. Lat Linear Regression.png\")"
   ]
  },
  {
   "cell_type": "markdown",
   "metadata": {},
   "source": [
    "####  Northern Hemisphere - Wind Speed (mph) vs. Latitude Linear Regression"
   ]
  },
  {
   "cell_type": "code",
   "execution_count": null,
   "metadata": {},
   "outputs": [],
   "source": [
    "equation = linear_agression(northern_hemisphere[\"Lat\"], northern_hemisphere[\"Wind Speed\"])\n",
    "\n",
    "annotate(equation, 40, 20)\n",
    "plt.title(\"Northern Hemisphere - Wind Speed (mph) vs. Latitude Linear Regression\")\n",
    "plt.xlabel(\"Latitude\")\n",
    "plt.ylabel(\"Wind Speed (mph)\")\n",
    "plt.savefig(\"../Images/Northern Hemisphere - Wind Speed (mph) vs. Lat Linear Regression.png\")"
   ]
  },
  {
   "cell_type": "markdown",
   "metadata": {},
   "source": [
    "####  Southern Hemisphere - Wind Speed (mph) vs. Latitude Linear Regression"
   ]
  },
  {
   "cell_type": "code",
   "execution_count": null,
   "metadata": {},
   "outputs": [],
   "source": [
    "equation = linear_agression(southern_hemisphere[\"Lat\"], southern_hemisphere[\"Wind Speed\"])\n",
    "\n",
    "annotate(equation, 0, 0)\n",
    "plt.title(\"Southern Hemisphere - Wind Speed (mph) vs. Latitude Linear Regression\")\n",
    "plt.xlabel(\"Latitude\")\n",
    "plt.ylabel(\"Wind Speed (mph)\")\n",
    "plt.savefig(\"../Images/Southern Hemisphere - Wind Speed vs. Lat Linear Regression.png\")"
   ]
  },
  {
   "cell_type": "code",
   "execution_count": null,
   "metadata": {},
   "outputs": [],
   "source": []
  }
 ],
 "metadata": {
  "anaconda-cloud": {},
  "kernel_info": {
   "name": "python3"
  },
  "kernelspec": {
   "display_name": "Python 3",
   "language": "python",
   "name": "python3"
  },
  "language_info": {
   "codemirror_mode": {
    "name": "ipython",
    "version": 3
   },
   "file_extension": ".py",
   "mimetype": "text/x-python",
   "name": "python",
   "nbconvert_exporter": "python",
   "pygments_lexer": "ipython3",
   "version": "3.6.10"
  },
  "latex_envs": {
   "LaTeX_envs_menu_present": true,
   "autoclose": false,
   "autocomplete": true,
   "bibliofile": "biblio.bib",
   "cite_by": "apalike",
   "current_citInitial": 1,
   "eqLabelWithNumbers": true,
   "eqNumInitial": 1,
   "hotkeys": {
    "equation": "Ctrl-E",
    "itemize": "Ctrl-I"
   },
   "labels_anchors": false,
   "latex_user_defs": false,
   "report_style_numbering": false,
   "user_envs_cfg": false
  },
  "nteract": {
   "version": "0.12.3"
  }
 },
 "nbformat": 4,
 "nbformat_minor": 2
}
